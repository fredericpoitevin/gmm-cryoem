{
 "cells": [
  {
   "cell_type": "code",
   "execution_count": 1,
   "metadata": {},
   "outputs": [],
   "source": [
    "%matplotlib inline"
   ]
  },
  {
   "cell_type": "code",
   "execution_count": 2,
   "metadata": {},
   "outputs": [],
   "source": [
    "import numpy as np\n",
    "import matplotlib.pyplot as plt\n",
    "from scipy.spatial.transform import Rotation as R\n",
    "import ipyvolume as ipv\n",
    "import pathlib, glob\n",
    "from scipy.stats import norm\n",
    "import time"
   ]
  },
  {
   "cell_type": "code",
   "execution_count": 3,
   "metadata": {},
   "outputs": [],
   "source": [
    "import sys\n",
    "sys.path.append('../src/')\n",
    "from forward_modeling import project_volume, create_circular_mask, slice_volume, rotate_volume, take_slice, project_volume_bis, backprojection, add_slice\n",
    "from scipy.interpolate import RegularGridInterpolator, griddata\n",
    "from molecular_handling import particle\n",
    "from molecular_handling import generate_dataset\n",
    "from scipy.spatial.transform import Rotation as R\n",
    "from forward_modeling import project_volume"
   ]
  },
  {
   "cell_type": "code",
   "execution_count": 4,
   "metadata": {},
   "outputs": [
    {
     "name": "stdout",
     "output_type": "stream",
     "text": [
      "Data directory ../data/test exists: \n",
      ">>> ../data/test/particle_hires_xyz.npy\n",
      ">>> ../data/test/particle_oddres_meta.npy\n",
      ">>> ../data/test/particle_hires_map.npy\n",
      ">>> ../data/test/.DS_Store\n",
      ">>> ../data/test/particle_meta.npy\n",
      ">>> ../data/test/het_particle_meta.npy\n",
      ">>> ../data/test/particle_hires_data.npy\n",
      ">>> ../data/test/particle_hires_meta.npy\n",
      ">>> ../data/test/particle_map.npy\n",
      ">>> ../data/test/particle_oddres_data.npy\n",
      ">>> ../data/test/particle_xyz.npy\n",
      ">>> ../data/test/particle_oddres_map.npy\n",
      ">>> ../data/test/het_particle_data.npy\n",
      ">>> ../data/test/particle_oddres_xyz.npy\n",
      ">>> ../data/test/het_particle_map.npy\n",
      ">>> ../data/test/particle_data.npy\n"
     ]
    }
   ],
   "source": [
    "data_directory = pathlib.Path('..') / 'data'  # directory where the data is\n",
    "output_dir = data_directory / 'test'\n",
    "if output_dir.exists():\n",
    "    print(f'Data directory {output_dir} exists: ')\n",
    "    for x in list(output_dir.glob('*')):\n",
    "        print(f'>>> {str(x)}') "
   ]
  },
  {
   "cell_type": "markdown",
   "metadata": {},
   "source": [
    "## Evolution of the Mean-Squared Error with the length of the dataset"
   ]
  },
  {
   "cell_type": "code",
   "execution_count": 5,
   "metadata": {},
   "outputs": [
    {
     "name": "stdout",
     "output_type": "stream",
     "text": [
      "With length = 10:\n",
      "sum of pixels for backprojection: 792.7007809000501\n",
      "sum of pixels for real volume: 792.6914147189551\n",
      "sum of pixels for backprojection in Fourier space: 57998.74606368438\n",
      "sum of pixels for real volume in Fourier space: 58448.31260864058\n",
      "mse in real space: 0.00019853798856132106\n",
      "--------------------------------------------------\n",
      "With length = 30:\n",
      "sum of pixels for backprojection: 792.7007682149156\n",
      "sum of pixels for real volume: 792.6914147189551\n",
      "sum of pixels for backprojection in Fourier space: 59454.033274694666\n",
      "sum of pixels for real volume in Fourier space: 58448.31260864058\n",
      "mse in real space: 7.863858687891931e-05\n",
      "--------------------------------------------------\n",
      "With length = 50:\n",
      "sum of pixels for backprojection: 792.7007703070365\n",
      "sum of pixels for real volume: 792.6914147189551\n",
      "sum of pixels for backprojection in Fourier space: 59212.17858458978\n",
      "sum of pixels for real volume in Fourier space: 58448.31260864058\n",
      "mse in real space: 6.806331516787109e-05\n",
      "--------------------------------------------------\n",
      "With length = 80:\n",
      "sum of pixels for backprojection: 792.7007827046203\n",
      "sum of pixels for real volume: 792.6914147189551\n",
      "sum of pixels for backprojection in Fourier space: 59326.349704008695\n",
      "sum of pixels for real volume in Fourier space: 58448.31260864058\n",
      "mse in real space: 5.82966116083791e-05\n",
      "--------------------------------------------------\n",
      "With length = 100:\n",
      "sum of pixels for backprojection: 792.7007865791751\n",
      "sum of pixels for real volume: 792.6914147189551\n",
      "sum of pixels for backprojection in Fourier space: 59213.28864625965\n",
      "sum of pixels for real volume in Fourier space: 58448.31260864058\n",
      "mse in real space: 5.698637872276155e-05\n",
      "--------------------------------------------------\n",
      "With length = 150:\n",
      "sum of pixels for backprojection: 792.7007878546426\n",
      "sum of pixels for real volume: 792.6914147189551\n",
      "sum of pixels for backprojection in Fourier space: 59045.435860690624\n",
      "sum of pixels for real volume in Fourier space: 58448.31260864058\n",
      "mse in real space: 5.687385953561624e-05\n",
      "--------------------------------------------------\n",
      "With length = 200:\n",
      "sum of pixels for backprojection: 792.7007905273903\n",
      "sum of pixels for real volume: 792.6914147189551\n",
      "sum of pixels for backprojection in Fourier space: 58961.99008076857\n",
      "sum of pixels for real volume in Fourier space: 58448.31260864058\n",
      "mse in real space: 5.6450002229531463e-05\n",
      "--------------------------------------------------\n",
      "With length = 300:\n",
      "sum of pixels for backprojection: 792.700788229358\n",
      "sum of pixels for real volume: 792.6914147189551\n",
      "sum of pixels for backprojection in Fourier space: 58932.79338764712\n",
      "sum of pixels for real volume in Fourier space: 58448.31260864058\n",
      "mse in real space: 5.5927494200098604e-05\n",
      "--------------------------------------------------\n",
      "With length = 500:\n",
      "sum of pixels for backprojection: 792.7007875235157\n",
      "sum of pixels for real volume: 792.6914147189551\n",
      "sum of pixels for backprojection in Fourier space: 58900.95423930361\n",
      "sum of pixels for real volume in Fourier space: 58448.31260864058\n",
      "mse in real space: 5.452578441893214e-05\n",
      "--------------------------------------------------\n",
      "With length = 700:\n",
      "sum of pixels for backprojection: 792.7007849355391\n",
      "sum of pixels for real volume: 792.6914147189551\n",
      "sum of pixels for backprojection in Fourier space: 58949.25977580764\n",
      "sum of pixels for real volume in Fourier space: 58448.31260864058\n",
      "mse in real space: 5.366422621488288e-05\n",
      "--------------------------------------------------\n",
      "With length = 1000:\n",
      "sum of pixels for backprojection: 792.7007853223115\n",
      "sum of pixels for real volume: 792.6914147189551\n",
      "sum of pixels for backprojection in Fourier space: 59000.945776710585\n",
      "sum of pixels for real volume in Fourier space: 58448.31260864058\n",
      "mse in real space: 5.412193846983067e-05\n",
      "--------------------------------------------------\n",
      "With length = 1200:\n",
      "sum of pixels for backprojection: 792.7007806752355\n",
      "sum of pixels for real volume: 792.6914147189551\n",
      "sum of pixels for backprojection in Fourier space: 58999.01075623871\n",
      "sum of pixels for real volume in Fourier space: 58448.31260864058\n",
      "mse in real space: 5.3294493172612816e-05\n",
      "--------------------------------------------------\n",
      "With length = 1500:\n",
      "sum of pixels for backprojection: 792.7007816238669\n",
      "sum of pixels for real volume: 792.6914147189551\n",
      "sum of pixels for backprojection in Fourier space: 59016.78788582532\n",
      "sum of pixels for real volume in Fourier space: 58448.31260864058\n",
      "mse in real space: 5.309740298360568e-05\n",
      "--------------------------------------------------\n",
      "With length = 2000:\n",
      "sum of pixels for backprojection: 792.7007800226214\n",
      "sum of pixels for real volume: 792.6914147189551\n",
      "sum of pixels for backprojection in Fourier space: 59018.89879231156\n",
      "sum of pixels for real volume in Fourier space: 58448.31260864058\n",
      "mse in real space: 5.2417844613812093e-05\n",
      "--------------------------------------------------\n",
      "With length = 3000:\n",
      "sum of pixels for backprojection: 792.7007833057366\n",
      "sum of pixels for real volume: 792.6914147189551\n",
      "sum of pixels for backprojection in Fourier space: 58984.3338564889\n",
      "sum of pixels for real volume in Fourier space: 58448.31260864058\n",
      "mse in real space: 5.214993395235858e-05\n",
      "--------------------------------------------------\n"
     ]
    }
   ],
   "source": [
    "keyword='particle_oddres'\n",
    "dataset     = np.load(f'{output_dir}/{keyword}_data.npy')\n",
    "metadataset = np.load(f'{output_dir}/{keyword}_meta.npy')\n",
    "volume      = np.load(f'{output_dir}/{keyword}_map.npy')\n",
    "structure   = np.load(f'{output_dir}/{keyword}_xyz.npy')\n",
    "\n",
    "lengths = [10,30,50,80,100,150,200,300,500,700,1000,1200,1500,2000,3000]\n",
    "solutions = []\n",
    "scores = []\n",
    "mse = []\n",
    "\n",
    "for length in lengths:\n",
    "    volume_fft = np.fft.fftshift(np.fft.fftn(np.fft.ifftshift(volume)))\n",
    "    vol = (backprojection(dataset[:length], metadataset[:length,0:3]))\n",
    "    vol_fft = np.fft.fftshift(np.fft.fftn(np.fft.ifftshift(vol)))\n",
    "    print(f\"With length = {length}:\")\n",
    "    print(f\"sum of pixels for backprojection: {np.sum(np.real(vol))}\")\n",
    "    print(f\"sum of pixels for real volume: {np.sum(np.real(volume))}\")\n",
    "    print(f\"sum of pixels for backprojection in Fourier space: {np.sum(np.abs(vol_fft))}\")\n",
    "    print(f\"sum of pixels for real volume in Fourier space: {np.sum(np.abs(volume_fft))}\")\n",
    "    print(f\"mse in real space: {(np.mean(np.power(volume-vol, 2)))}\")\n",
    "\n",
    "    print(50*\"-\")\n",
    "    scores.append(np.sum(np.real(vol)))\n",
    "    mse.append((np.mean(np.power(volume-vol, 2))))\n",
    "    solutions.append(np.sum(np.real(volume)))"
   ]
  },
  {
   "cell_type": "code",
   "execution_count": 6,
   "metadata": {},
   "outputs": [
    {
     "name": "stdout",
     "output_type": "stream",
     "text": [
      "With length = 10:\n",
      "sum of pixels for backprojection: 589.9074671230818\n",
      "sum of pixels for real volume: 720.6748632877983\n",
      "sum of pixels for backprojection in Fourier space: 50264.00707917734\n",
      "sum of pixels for real volume in Fourier space: 53294.07101520368\n",
      "mse in real space: 0.0008442060844842914\n",
      "--------------------------------------------------\n",
      "With length = 30:\n",
      "sum of pixels for backprojection: 551.8469179284094\n",
      "sum of pixels for real volume: 720.6748632877983\n",
      "sum of pixels for backprojection in Fourier space: 50132.86246406756\n",
      "sum of pixels for real volume in Fourier space: 53294.07101520368\n",
      "mse in real space: 0.0009145642131699965\n",
      "--------------------------------------------------\n",
      "With length = 50:\n",
      "sum of pixels for backprojection: 566.4743462796555\n",
      "sum of pixels for real volume: 720.6748632877983\n",
      "sum of pixels for backprojection in Fourier space: 49930.83405368948\n",
      "sum of pixels for real volume in Fourier space: 53294.07101520368\n",
      "mse in real space: 0.0007971455899120657\n",
      "--------------------------------------------------\n",
      "With length = 80:\n",
      "sum of pixels for backprojection: 562.8809002859341\n",
      "sum of pixels for real volume: 720.6748632877983\n",
      "sum of pixels for backprojection in Fourier space: 49755.85705371931\n",
      "sum of pixels for real volume in Fourier space: 53294.07101520368\n",
      "mse in real space: 0.0008046260743242323\n",
      "--------------------------------------------------\n",
      "With length = 100:\n",
      "sum of pixels for backprojection: 563.0867450166818\n",
      "sum of pixels for real volume: 720.6748632877983\n",
      "sum of pixels for backprojection in Fourier space: 49570.350944011116\n",
      "sum of pixels for real volume in Fourier space: 53294.07101520368\n",
      "mse in real space: 0.0007920113888524852\n",
      "--------------------------------------------------\n",
      "With length = 150:\n",
      "sum of pixels for backprojection: 556.9189440611723\n",
      "sum of pixels for real volume: 720.6748632877983\n",
      "sum of pixels for backprojection in Fourier space: 49599.579758002066\n",
      "sum of pixels for real volume in Fourier space: 53294.07101520368\n",
      "mse in real space: 0.000844458352514845\n",
      "--------------------------------------------------\n",
      "With length = 200:\n",
      "sum of pixels for backprojection: 557.9215979626929\n",
      "sum of pixels for real volume: 720.6748632877983\n",
      "sum of pixels for backprojection in Fourier space: 49609.766384103525\n",
      "sum of pixels for real volume in Fourier space: 53294.07101520368\n",
      "mse in real space: 0.0008288147064768387\n",
      "--------------------------------------------------\n",
      "With length = 300:\n",
      "sum of pixels for backprojection: 555.8855435521559\n",
      "sum of pixels for real volume: 720.6748632877983\n",
      "sum of pixels for backprojection in Fourier space: 49462.96659620777\n",
      "sum of pixels for real volume in Fourier space: 53294.07101520368\n",
      "mse in real space: 0.0008268504540820013\n",
      "--------------------------------------------------\n",
      "With length = 500:\n",
      "sum of pixels for backprojection: 552.2751748397101\n",
      "sum of pixels for real volume: 720.6748632877983\n",
      "sum of pixels for backprojection in Fourier space: 49366.97233989023\n",
      "sum of pixels for real volume in Fourier space: 53294.07101520368\n",
      "mse in real space: 0.0008488494424796347\n",
      "--------------------------------------------------\n",
      "With length = 700:\n",
      "sum of pixels for backprojection: 552.5233482843314\n",
      "sum of pixels for real volume: 720.6748632877983\n",
      "sum of pixels for backprojection in Fourier space: 49471.11803254657\n",
      "sum of pixels for real volume in Fourier space: 53294.07101520368\n",
      "mse in real space: 0.0008329466620624053\n",
      "--------------------------------------------------\n",
      "With length = 1000:\n",
      "sum of pixels for backprojection: 555.0085888405546\n",
      "sum of pixels for real volume: 720.6748632877983\n",
      "sum of pixels for backprojection in Fourier space: 49501.05681324008\n",
      "sum of pixels for real volume in Fourier space: 53294.07101520368\n",
      "mse in real space: 0.0007937379068505681\n",
      "--------------------------------------------------\n",
      "With length = 1200:\n",
      "sum of pixels for backprojection: 555.9778913577401\n",
      "sum of pixels for real volume: 720.6748632877983\n",
      "sum of pixels for backprojection in Fourier space: 49477.40251291722\n",
      "sum of pixels for real volume in Fourier space: 53294.07101520368\n",
      "mse in real space: 0.0007867620032081279\n",
      "--------------------------------------------------\n",
      "With length = 1500:\n",
      "sum of pixels for backprojection: 555.8353024964516\n",
      "sum of pixels for real volume: 720.6748632877983\n",
      "sum of pixels for backprojection in Fourier space: 49494.30527072056\n",
      "sum of pixels for real volume in Fourier space: 53294.07101520368\n",
      "mse in real space: 0.0007832545596168514\n",
      "--------------------------------------------------\n",
      "With length = 2000:\n",
      "sum of pixels for backprojection: 553.859256837983\n",
      "sum of pixels for real volume: 720.6748632877983\n",
      "sum of pixels for backprojection in Fourier space: 49488.64174779314\n",
      "sum of pixels for real volume in Fourier space: 53294.07101520368\n",
      "mse in real space: 0.000788382479037027\n",
      "--------------------------------------------------\n",
      "With length = 3000:\n",
      "sum of pixels for backprojection: 554.6624311671958\n",
      "sum of pixels for real volume: 720.6748632877983\n",
      "sum of pixels for backprojection in Fourier space: 49538.10823400067\n",
      "sum of pixels for real volume in Fourier space: 53294.07101520368\n",
      "mse in real space: 0.000782960236951191\n",
      "--------------------------------------------------\n"
     ]
    }
   ],
   "source": [
    "keyword='particle'\n",
    "dataset     = np.load(f'{output_dir}/{keyword}_data.npy')\n",
    "metadataset = np.load(f'{output_dir}/{keyword}_meta.npy')\n",
    "volume2      = np.load(f'{output_dir}/{keyword}_map.npy')\n",
    "structure   = np.load(f'{output_dir}/{keyword}_xyz.npy')\n",
    "\n",
    "lengths = [10,30,50,80,100,150,200,300,500,700,1000,1200,1500,2000,3000]\n",
    "scores2 = []\n",
    "mse2 = []\n",
    "solutions2=[]\n",
    "\n",
    "for length in lengths:\n",
    "    volume_fft = np.fft.fftshift(np.fft.fftn(np.fft.ifftshift(volume2)))\n",
    "    vol2 = (backprojection(dataset[:length], metadataset[:length,0:3]))\n",
    "    vol_fft = np.fft.fftshift(np.fft.fftn(np.fft.ifftshift(vol2)))\n",
    "    print(f\"With length = {length}:\")\n",
    "    print(f\"sum of pixels for backprojection: {np.sum(np.real(vol2))}\")\n",
    "    print(f\"sum of pixels for real volume: {np.sum(np.real(volume2))}\")\n",
    "    print(f\"sum of pixels for backprojection in Fourier space: {np.sum(np.abs(vol_fft))}\")\n",
    "    print(f\"sum of pixels for real volume in Fourier space: {np.sum(np.abs(volume_fft))}\")\n",
    "    print(f\"mse in real space: {(np.mean(np.power(volume2-vol2, 2)))}\")\n",
    "\n",
    "    print(50*\"-\")\n",
    "    scores2.append(np.sum(np.real(vol2)))\n",
    "    mse2.append(np.mean(np.power(volume2-vol2, 2)))\n",
    "    solutions2.append(np.sum(np.real(volume2)))"
   ]
  },
  {
   "cell_type": "code",
   "execution_count": 7,
   "metadata": {},
   "outputs": [
    {
     "data": {
      "image/png": "[encoded data removed]",
      "text/plain": [
       "<Figure size 432x288 with 1 Axes>"
      ]
     },
     "metadata": {
      "needs_background": "light"
     },
     "output_type": "display_data"
    },
    {
     "data": {
      "image/png": "[encoded data removed]",
      "text/plain": [
       "<Figure size 432x288 with 1 Axes>"
      ]
     },
     "metadata": {
      "needs_background": "light"
     },
     "output_type": "display_data"
    },
    {
     "data": {
      "image/png": "[encoded data removed]",
      "text/plain": [
       "<Figure size 432x288 with 1 Axes>"
      ]
     },
     "metadata": {
      "needs_background": "light"
     },
     "output_type": "display_data"
    },
    {
     "data": {
      "image/png": "[encoded data removed]",
      "text/plain": [
       "<Figure size 432x288 with 1 Axes>"
      ]
     },
     "metadata": {
      "needs_background": "light"
     },
     "output_type": "display_data"
    }
   ],
   "source": [
    "plt.plot(lengths, scores, label='odd resolution')\n",
    "plt.plot(lengths,solutions, label='solution')\n",
    "plt.legend()\n",
    "plt.show()\n",
    "\n",
    "plt.plot(lengths, scores2, label='even resolution')\n",
    "plt.plot(lengths,solutions2, label='solution')\n",
    "plt.legend()\n",
    "plt.show()\n",
    "\n",
    "\n",
    "plt.plot(lengths, mse, label='odd resolution')\n",
    "plt.xlabel('lenght of dataset')\n",
    "plt.ylabel('mse')\n",
    "plt.legend()\n",
    "plt.show()\n",
    "\n",
    "plt.plot(lengths, mse2, label='even resolution')\n",
    "plt.xlabel('lenght of dataset')\n",
    "plt.ylabel('mse2')\n",
    "plt.legend()\n",
    "plt.show()"
   ]
  },
  {
   "cell_type": "markdown",
   "metadata": {},
   "source": [
    "Comments:\n",
    "\n",
    "- The reconstruction doesn't lose intensity when the number of voxels per dimension is odd\n",
    "- And the mean squared error is lower in the case odd"
   ]
  },
  {
   "cell_type": "markdown",
   "metadata": {},
   "source": [
    "## Evolution of the Mean-Squared Error with the size of the grid"
   ]
  },
  {
   "cell_type": "code",
   "execution_count": 8,
   "metadata": {},
   "outputs": [
    {
     "name": "stdout",
     "output_type": "stream",
     "text": [
      "With res = 8x8:\n",
      "100 images were created\n",
      "sum of pixels for backprojection: 5.791757102936496\n",
      "sum of pixels for real volume: 8.287035136242396\n",
      "sum of pixels for backprojection in Fourier space: 347.6232125836711\n",
      "sum of pixels for real volume in Fourier space: 633.3305091026141\n",
      "mse in real space: 0.003499505033253895\n",
      "time required: 0.20885562896728516\n",
      "--------------------------------------------------\n",
      "With res = 9x9:\n",
      "100 images were created\n",
      "sum of pixels for backprojection: 12.385940910793632\n",
      "sum of pixels for real volume: 12.385570953133499\n",
      "sum of pixels for backprojection in Fourier space: 842.8832053877675\n",
      "sum of pixels for real volume in Fourier space: 1070.1725570511396\n",
      "mse in real space: 0.000399360522971474\n",
      "time required: 0.23550081253051758\n",
      "--------------------------------------------------\n",
      "With res = 16x16:\n",
      "100 images were created\n",
      "sum of pixels for backprojection: 64.34087209715685\n",
      "sum of pixels for real volume: 81.64477508037352\n",
      "sum of pixels for backprojection in Fourier space: 5398.949729987891\n",
      "sum of pixels for real volume in Fourier space: 6659.069885355208\n",
      "mse in real space: 0.002015092147341985\n",
      "time required: 0.42308568954467773\n",
      "--------------------------------------------------\n",
      "With res = 17x17:\n",
      "100 images were created\n",
      "sum of pixels for backprojection: 99.08761429720613\n",
      "sum of pixels for real volume: 99.08644422634819\n",
      "sum of pixels for backprojection in Fourier space: 8022.326315248298\n",
      "sum of pixels for real volume in Fourier space: 7989.383690837525\n",
      "mse in real space: 4.5705418678127775e-05\n",
      "time required: 0.48180508613586426\n",
      "--------------------------------------------------\n",
      "With res = 32x32:\n",
      "100 images were created\n",
      "sum of pixels for backprojection: 529.3589164809209\n",
      "sum of pixels for real volume: 720.674916252138\n",
      "sum of pixels for backprojection in Fourier space: 47658.00869433888\n",
      "sum of pixels for real volume in Fourier space: 53299.07810029401\n",
      "mse in real space: 0.0012167608225441312\n",
      "time required: 1.3644700050354004\n",
      "--------------------------------------------------\n",
      "With res = 33x33:\n",
      "100 images were created\n",
      "sum of pixels for backprojection: 792.7007925988908\n",
      "sum of pixels for real volume: 792.6913269708651\n",
      "sum of pixels for backprojection in Fourier space: 59332.76129340009\n",
      "sum of pixels for real volume in Fourier space: 58484.96146874672\n",
      "mse in real space: 6.127106020659992e-05\n",
      "time required: 1.401845932006836\n",
      "--------------------------------------------------\n",
      "With res = 64x64:\n",
      "100 images were created\n",
      "sum of pixels for backprojection: 4425.522763175763\n",
      "sum of pixels for real volume: 6048.8925463757605\n",
      "sum of pixels for backprojection in Fourier space: 402525.21632749034\n",
      "sum of pixels for real volume in Fourier space: 426287.81640984723\n",
      "mse in real space: 0.0008791203434028699\n",
      "time required: 5.58752703666687\n",
      "--------------------------------------------------\n",
      "With res = 65x65:\n",
      "100 images were created\n",
      "sum of pixels for backprojection: 6341.604931005014\n",
      "sum of pixels for real volume: 6341.528039754631\n",
      "sum of pixels for backprojection in Fourier space: 450282.37772439414\n",
      "sum of pixels for real volume in Fourier space: 446951.43306319625\n",
      "mse in real space: 6.383957847281798e-05\n",
      "time required: 5.875678777694702\n",
      "--------------------------------------------------\n",
      "With res = 128x128:\n",
      "100 images were created\n",
      "sum of pixels for backprojection: 33683.037057881986\n",
      "sum of pixels for real volume: 49552.46391414566\n",
      "sum of pixels for backprojection in Fourier space: 3130241.396768665\n",
      "sum of pixels for real volume in Fourier space: 3412615.3857244086\n",
      "mse in real space: 0.0013120177647975104\n",
      "time required: 29.810504913330078\n",
      "--------------------------------------------------\n",
      "With res = 129x129:\n",
      "100 images were created\n",
      "sum of pixels for backprojection: 50732.83631102116\n",
      "sum of pixels for real volume: 50732.25437445751\n",
      "sum of pixels for backprojection in Fourier space: 3526014.0751472344\n",
      "sum of pixels for real volume in Fourier space: 3490203.026307045\n",
      "mse in real space: 7.410922239403996e-05\n",
      "time required: 31.547348022460938\n",
      "--------------------------------------------------\n",
      "With res = 256x256:\n",
      "100 images were created\n",
      "sum of pixels for backprojection: 290564.6414044775\n",
      "sum of pixels for real volume: 401120.33619076235\n",
      "sum of pixels for backprojection in Fourier space: 25287241.874940474\n",
      "sum of pixels for real volume in Fourier space: 27303080.16601538\n",
      "mse in real space: 0.0010289698286235405\n",
      "time required: 179.16989421844482\n",
      "--------------------------------------------------\n",
      "With res = 257x257:\n",
      "100 images were created\n",
      "sum of pixels for backprojection: 405862.6169692655\n",
      "sum of pixels for real volume: 405858.05331068765\n",
      "sum of pixels for backprojection in Fourier space: 27828239.755667575\n",
      "sum of pixels for real volume in Fourier space: 27633136.749490578\n",
      "mse in real space: 6.85562686661029e-05\n",
      "time required: 219.9244360923767\n",
      "--------------------------------------------------\n"
     ]
    }
   ],
   "source": [
    "crds = np.array([[0.,5.,5.],[5.,5.,5.],[5.,5.,0.]])\n",
    "sizes_grid = [8,9,16,17,32,33,64,65,128,129,256,257]\n",
    "scores_ = []\n",
    "solutions = []\n",
    "mse_ = []\n",
    "for size_grid in sizes_grid:\n",
    "    start = time.time()\n",
    "    print(f\"With res = {size_grid}x{size_grid}:\")\n",
    "    particle_ = particle(n_atom=3, rads_atom=[2.,2.,2.], crds = crds,size_grid=size_grid)\n",
    "    particle_.create_map()\n",
    "    volume = particle_.volume\n",
    "    data, metadata = generate_dataset(particle_, n_projections=100, save=False)\n",
    "    \n",
    "    volume_fft = np.fft.fftshift(np.fft.fftn(np.fft.fftshift(volume)))\n",
    "    vol = (backprojection(data, metadata[:,0:3]))\n",
    "    vol_fft = np.fft.fftshift(np.fft.fftn(np.fft.fftshift(vol)))\n",
    "    end = time.time()\n",
    "\n",
    "    print(f\"sum of pixels for backprojection: {np.sum(np.real(vol))}\")\n",
    "    print(f\"sum of pixels for real volume: {np.sum(np.real(volume))}\")\n",
    "    print(f\"sum of pixels for backprojection in Fourier space: {np.sum(np.abs(vol_fft))}\")\n",
    "    print(f\"sum of pixels for real volume in Fourier space: {np.sum(np.abs(volume_fft))}\")\n",
    "    print(f\"mse in real space: {(np.mean(np.power(volume-vol, 2)))}\")\n",
    "    print(f\"time required: {end-start}\")\n",
    "    print(50*\"-\")\n",
    "    \n",
    "    scores_.append(np.sum(np.real(vol)))\n",
    "    solutions.append(np.sum(np.real(volume)))\n",
    "    mse_.append((np.mean(np.power(volume-vol, 2))))"
   ]
  },
  {
   "cell_type": "code",
   "execution_count": 10,
   "metadata": {},
   "outputs": [
    {
     "data": {
      "image/png": "[encoded data removed]",
      "text/plain": [
       "<Figure size 432x288 with 1 Axes>"
      ]
     },
     "metadata": {
      "needs_background": "light"
     },
     "output_type": "display_data"
    },
    {
     "data": {
      "image/png": "[encoded data removed]",
      "text/plain": [
       "<Figure size 432x288 with 1 Axes>"
      ]
     },
     "metadata": {
      "needs_background": "light"
     },
     "output_type": "display_data"
    },
    {
     "data": {
      "image/png": "[encoded data removed]",
      "text/plain": [
       "<Figure size 432x288 with 1 Axes>"
      ]
     },
     "metadata": {
      "needs_background": "light"
     },
     "output_type": "display_data"
    }
   ],
   "source": [
    "plt.plot([sizes_grid[2*i] for i in range(len(sizes_grid)//2)], [scores_[2*i] for i in range(len(scores_)//2)], label='even')\n",
    "plt.plot(sizes_grid,solutions, label='solution')\n",
    "plt.legend()\n",
    "plt.show()\n",
    "\n",
    "plt.plot([sizes_grid[2*i+1] for i in range(len(sizes_grid)//2)], [scores_[2*i+1] for i in range(len(scores_)//2)], label='odd')\n",
    "plt.plot(sizes_grid,solutions, label='solution')\n",
    "plt.legend()\n",
    "plt.show()\n",
    "\n",
    "plt.plot([sizes_grid[2*i] for i in range(len(sizes_grid)//2)], [mse_[2*i] for i in range(len(mse_)//2)], label='even resolution')\n",
    "plt.xlabel('size_grid')\n",
    "plt.ylabel('mse')\n",
    "plt.plot([sizes_grid[2*i+1] for i in range(len(sizes_grid)//2)], [mse_[2*i+1] for i in range(len(mse_)//2)], label='odd resolution')\n",
    "plt.legend()\n",
    "plt.show()\n",
    "\n",
    "#plt.plot(sizes_grid, [mse_[i]/sizes_grid[i]**3 for i in range(len(mse_))], label='mean squared error')\n",
    "#plt.xlabel('size_grid')\n",
    "#plt.ylabel('averaged mse')\n",
    "#plt.legend()\n",
    "#plt.show()"
   ]
  }
 ],
 "metadata": {
  "kernelspec": {
   "display_name": "Python 3",
   "language": "python",
   "name": "python3"
  },
  "language_info": {
   "codemirror_mode": {
    "name": "ipython",
    "version": 3
   },
   "file_extension": ".py",
   "mimetype": "text/x-python",
   "name": "python",
   "nbconvert_exporter": "python",
   "pygments_lexer": "ipython3",
   "version": "3.6.10"
  }
 },
 "nbformat": 4,
 "nbformat_minor": 4
}
