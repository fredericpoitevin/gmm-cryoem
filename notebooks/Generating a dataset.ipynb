{
 "cells": [
  {
   "cell_type": "markdown",
   "metadata": {},
   "source": [
    "To display images in notebook"
   ]
  },
  {
   "cell_type": "code",
   "execution_count": 1,
   "metadata": {},
   "outputs": [],
   "source": [
    "%matplotlib inline"
   ]
  },
  {
   "cell_type": "markdown",
   "metadata": {},
   "source": [
    "Loading our tools and libraries"
   ]
  },
  {
   "cell_type": "code",
   "execution_count": 2,
   "metadata": {},
   "outputs": [],
   "source": [
    "import numpy as np\n",
    "import matplotlib.pyplot as plt\n",
    "import pathlib, glob"
   ]
  },
  {
   "cell_type": "code",
   "execution_count": 3,
   "metadata": {},
   "outputs": [],
   "source": [
    "import sys\n",
    "sys.path.append('../src/')\n",
    "from molecular_handling import particle\n",
    "from molecular_handling import generate_dataset"
   ]
  },
  {
   "cell_type": "markdown",
   "metadata": {},
   "source": [
    "Make sure we have a local directory to write the data in:"
   ]
  },
  {
   "cell_type": "code",
   "execution_count": 4,
   "metadata": {},
   "outputs": [],
   "source": [
    "data_directory = pathlib.Path('..') / 'data'  # directory where the data is\n",
    "output_dir = data_directory / 'test'\n",
    "output_dir.mkdir(parents=True, exist_ok=True)"
   ]
  },
  {
   "cell_type": "markdown",
   "metadata": {},
   "source": [
    "Build a particle with 3 atoms of radii 1, 2 and 1."
   ]
  },
  {
   "cell_type": "code",
   "execution_count": 5,
   "metadata": {},
   "outputs": [],
   "source": [
    "crds = np.array([[6.,7.,7.],[7.,7.,7.],[7.,7.,6.]])\n",
    "particle_ = particle(n_atom=3, rads_atom=[1.,2.,1.])"
   ]
  },
  {
   "cell_type": "markdown",
   "metadata": {},
   "source": [
    "Generate a dataset from that particle and save it:"
   ]
  },
  {
   "cell_type": "code",
   "execution_count": 6,
   "metadata": {},
   "outputs": [
    {
     "name": "stdout",
     "output_type": "stream",
     "text": [
      "100 images were created\n"
     ]
    }
   ],
   "source": [
    "data, metadata = generate_dataset(particle_, n_projections=100, reldir=output_dir)"
   ]
  },
  {
   "cell_type": "markdown",
   "metadata": {},
   "source": [
    "Higher \"resolution\":"
   ]
  },
  {
   "cell_type": "code",
   "execution_count": 7,
   "metadata": {},
   "outputs": [
    {
     "name": "stdout",
     "output_type": "stream",
     "text": [
      "100 images were created\n"
     ]
    }
   ],
   "source": [
    "crds = np.array([[4.,7.,7.],[5.,3.,6.],[6.,6.,6.]])\n",
    "particle_ = particle(n_atom=3, rads_atom=[2.,2.,2.], crds = crds,size_grid=128)\n",
    "data, metadata = generate_dataset(particle_, n_projections=100, keyword='particle_hires', reldir=output_dir)"
   ]
  },
  {
   "cell_type": "markdown",
   "metadata": {},
   "source": [
    "Let's see what we have just written:"
   ]
  },
  {
   "cell_type": "code",
   "execution_count": 8,
   "metadata": {},
   "outputs": [
    {
     "data": {
      "text/plain": [
       "['../data/test/particle_hires_xyz.npy',\n",
       " '../data/test/particle_hires_map.npy',\n",
       " '../data/test/particle_meta.npy',\n",
       " '../data/test/particle_hires_data.npy',\n",
       " '../data/test/particle_hires_meta.npy',\n",
       " '../data/test/particle_map.npy',\n",
       " '../data/test/particle_xyz.npy',\n",
       " '../data/test/particle_data.npy']"
      ]
     },
     "execution_count": 8,
     "metadata": {},
     "output_type": "execute_result"
    }
   ],
   "source": [
    "glob.glob(f'{output_dir}/*')"
   ]
  }
 ],
 "metadata": {
  "kernelspec": {
   "display_name": "Python 3",
   "language": "python",
   "name": "python3"
  },
  "language_info": {
   "codemirror_mode": {
    "name": "ipython",
    "version": 3
   },
   "file_extension": ".py",
   "mimetype": "text/x-python",
   "name": "python",
   "nbconvert_exporter": "python",
   "pygments_lexer": "ipython3",
   "version": "3.6.10"
  }
 },
 "nbformat": 4,
 "nbformat_minor": 2
}
